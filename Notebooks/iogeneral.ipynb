{
 "cells": [
  {
   "cell_type": "markdown",
   "metadata": {},
   "source": [
    "## XML and general I/O functions"
   ]
  },
  {
   "cell_type": "code",
   "execution_count": 1,
   "metadata": {
    "scrolled": true
   },
   "outputs": [],
   "source": [
    "from pprint import pprint as pp\n",
    "import xml\n",
    "from xml import etree\n",
    "from xml.etree import ElementTree\n",
    "from io import StringIO\n",
    "import csv\n",
    "import unicodedata as ucd\n",
    "# debugging\n",
    "import pdb\n",
    "import traceback"
   ]
  },
  {
   "cell_type": "code",
   "execution_count": 2,
   "metadata": {},
   "outputs": [],
   "source": [
    "def writeToFile(records, filename, encoding='utf-8'):\n",
    "    #records is a list of xml.etree.Element instances\n",
    "    #wraps records in a collection element to a ElementTree instance\n",
    "    #write the ElementTree to file\n",
    "    root= xml.etree.ElementTree.Element('collection')\n",
    "    for rec in records:\n",
    "        root.append(rec)\n",
    "    e3=xml.etree.ElementTree.ElementTree(root)\n",
    "    e3.write(filename, encoding)\n",
    "\n",
    "def writelist(file, contentLst, encoding='utf-8'):\n",
    "    #writes contentLst to file, each elemnet per line\n",
    "     with open(file, 'w', encoding=encoding) as f:\n",
    "        for elt in contentLst:\n",
    "            f.write(str(elt) + '\\n')\n",
    "        f.close()\n",
    "\n",
    "def writeDictToCSV(csvfile, contentDict, delim='|', encoding='utf-8'):\n",
    "    #writes contentDict to csvfile,using 2 columns (key to the left, value to the right)\n",
    "     with open(csvfile, 'w', encoding=encoding) as f:\n",
    "        thiswriter=csv.writer(f, delimiter = delim)\n",
    "        for itm in contentDict.items():\n",
    "            thiswriter.writerow(itm)\n",
    "        f.close()\n",
    "        \n",
    "def accumulateCSVfiles(csvfiles, delim='\\t'):\n",
    "    #reads all files in csvfiles into one list of lists of strings\n",
    "    result = []\n",
    "    for f in csvfiles:\n",
    "        with open(f, newline='', encoding='UTF-8') as csvfl:\n",
    "            thisreader=csv.reader(csvfl, delimiter = delim)\n",
    "            for row in thisreader:\n",
    "                result.append(row)\n",
    "            csvfl.close()\n",
    "    return(result)\n",
    "            \n",
    "def writeGroupedRowsToCSV(filename, data, delim='|'):\n",
    "    #writes data to a csv file.\n",
    "    #data is a list of lists of lists.  The innemost lists corresp. to a row in the file\n",
    "    #data=[[[grp1row1....],[grp1row2....]], ...,[[grpXrow1....],[grpXrow2....]],... ]\n",
    "    with open(filename, 'w', newline='',  encoding = 'utf-8') as f:\n",
    "        thiswriter=csv.writer(f, delimiter = delim)\n",
    "        for group in data:\n",
    "            for rw in group:\n",
    "                thiswriter.writerow(rw)\n",
    "        f.close()\n",
    "\n",
    "def writeRowsToCSV(filename, data, delim='|'):\n",
    "    #writes data to a csv file.\n",
    "    #data is a list of lists or tuples\n",
    "    with open(filename, 'w', newline='',  encoding = 'utf-8') as f:\n",
    "        thiswriter=csv.writer(f, delimiter = delim)\n",
    "        for rw in data:\n",
    "               thiswriter.writerow(rw)\n",
    "        f.close()\n",
    "\n",
    "def readlines(file, encoding='utf-8'):\n",
    "    #reads the entire content of file, and returns its content as a list\n",
    "    with open(file, 'r', encoding=encoding) as f:\n",
    "        content = f.readlines()\n",
    "    f.close()\n",
    "    result = []\n",
    "    for ln in content:\n",
    "        result.append(ln[0:-1])  # remove line feed at the end of each line\n",
    "    return result\n",
    "\n",
    "def readCsvRows(csvfile, encoding='utf-8', delim=';'):\n",
    "    #reads the entire content of csvfile\n",
    "    #returning a list of tuples, each tuple corresponding to 1 row\n",
    "    content=[]\n",
    "    with open(csvfile, 'r', encoding=encoding) as f:\n",
    "        thisreader=csv.reader(f, delimiter=delim)\n",
    "        for row in thisreader:\n",
    "            content.append(tuple(row))\n",
    "        f.close\n",
    "    return content\n",
    "    \n",
    "def key(elt):\n",
    "    return elt[0][0]    "
   ]
  }
 ],
 "metadata": {
  "kernelspec": {
   "display_name": "Python 3 (ipykernel)",
   "language": "python",
   "name": "python3"
  },
  "language_info": {
   "codemirror_mode": {
    "name": "ipython",
    "version": 3
   },
   "file_extension": ".py",
   "mimetype": "text/x-python",
   "name": "python",
   "nbconvert_exporter": "python",
   "pygments_lexer": "ipython3",
   "version": "3.11.7"
  }
 },
 "nbformat": 4,
 "nbformat_minor": 4
}
