{
 "cells": [
  {
   "cell_type": "markdown",
   "metadata": {},
   "source": [
    "# Høsting av Marc-poster fra Alma\n"
   ]
  },
  {
   "cell_type": "code",
   "execution_count": 14,
   "metadata": {
    "scrolled": true
   },
   "outputs": [],
   "source": [
    "import requests\n",
    "import xml\n",
    "from xml import etree\n",
    "from xml.etree import ElementTree\n",
    "from io import StringIO\n",
    "#import pymarc\n",
    "#from pymarc import Record, marcxml, Field, XMLWriter, MARCReader, MARCWriter\n",
    "\n"
   ]
  },
  {
   "cell_type": "markdown",
   "metadata": {},
   "source": [
    "# Harvesting records from Alma using OAI-PMH"
   ]
  },
  {
   "cell_type": "code",
   "execution_count": 15,
   "metadata": {},
   "outputs": [],
   "source": [
    "def harvestMarcViaOAI(sett='solstad',\n",
    "                      baseurl='https://bibsys.alma.exlibrisgroup.com/view/oai/47BIBSYS_NETWORK/request', \n",
    "                      prefx='marc21',\n",
    "                      oains= 'http://www.openarchives.org/OAI/2.0/',\n",
    "                      marcns='http://www.loc.gov/MARC21/slim',\n",
    "                      resumption=True):\n",
    "    #harvests OAI records from baseURL, assuming  a certein XML structure of response\n",
    "    #returns a list of all  Marc records in the given set\n",
    "    #namespacs should have been handled as parameters.....\n",
    "    ns={'oai' : oains, 'm21' : marcns}\n",
    "    payload = {'metadataPrefix': prefx, 'set': sett, 'verb':'ListRecords'}\n",
    "    with requests.Session() as s:\n",
    "        r=s.get(baseurl, params=payload)\n",
    "        #parse XML\n",
    "        root=xml.etree.ElementTree.fromstring(r.text)\n",
    "        #extract all marc records\n",
    "        reclist=root.findall(\"./oai:ListRecords/oai:record/oai:metadata/m21:record\", ns)\n",
    "        if resumption:\n",
    "            restoken=root.find(\"./oai:ListRecords/oai:resumptionToken\", ns)\n",
    "            while restoken is not None:\n",
    "                payload= {'verb':'ListRecords', 'resumptionToken': restoken.text}\n",
    "                r=s.get(baseurl, params=payload)\n",
    "                root=xml.etree.ElementTree.fromstring(r.text)\n",
    "                reclist.extend(root.findall(\"./oai:ListRecords/oai:record/oai:metadata/m21:record\", ns))\n",
    "                restoken=root.find(\"./oai:ListRecords/oai:resumptionToken\", ns)\n",
    "        return reclist\n",
    "\n",
    "def harvestMarcViaOAIIncremental(sett='solstad',\n",
    "                      baseurl='https://bibsys.alma.exlibrisgroup.com/view/oai/47BIBSYS_NETWORK/request', \n",
    "                      prefx='marc21',\n",
    "                      oains= 'http://www.openarchives.org/OAI/2.0/',\n",
    "                      marcns='http://www.loc.gov/MARC21/slim',\n",
    "                      batch=200000,\n",
    "                      filename='nbbestand',           \n",
    "                      resumption=True):\n",
    "    #harvests OAI records from baseURL, assuming  a certein XML structure of response\n",
    "    #namespacs should have been handled as parameters.....\n",
    "    #stores away <batch> records at a time in files <filename>_<num>.xml. Applicable ony if resumption==True\n",
    "    ns={'oai' : oains, 'm21' : marcns}\n",
    "    payload = {'metadataPrefix': prefx, 'set': sett, 'verb':'ListRecords'}\n",
    "    with requests.Session() as s:\n",
    "        r=s.get(baseurl, params=payload)     #selve høstingen\n",
    "        if r.status_code == 200:\n",
    "            #parse XML\n",
    "            root=xml.etree.ElementTree.fromstring(r.text)\n",
    "            #extract all marc records\n",
    "            reclist=root.findall(\"./oai:ListRecords/oai:record/oai:metadata/m21:record\", ns)\n",
    "            batchnum=1\n",
    "            if resumption:\n",
    "                restoken=root.find(\"./oai:ListRecords/oai:resumptionToken\", ns)\n",
    "                while restoken is not None:\n",
    "                    payload= {'verb':'ListRecords', 'resumptionToken': restoken.text}\n",
    "                    r=s.get(baseurl, params=payload)\n",
    "                    if r.status_code == 200:\n",
    "                        root=xml.etree.ElementTree.fromstring(r.text)\n",
    "                        if len(reclist) < batch:\n",
    "                            reclist.extend(root.findall(\"./oai:ListRecords/oai:record/oai:metadata/m21:record\", ns))\n",
    "                        else:\n",
    "                            writeToFile(reclist, filename+'_'+str(batchnum)+'.xml')\n",
    "                            reclist=root.findall(\"./oai:ListRecords/oai:record/oai:metadata/m21:record\", ns)\n",
    "                            batchnum+=1\n",
    "                        restoken=root.find(\"./oai:ListRecords/oai:resumptionToken\", ns)\n",
    "                        \n",
    "                    else:\n",
    "                        #something wrong: Return status_code, restoken and what has already been harvested (reclist)\n",
    "                        writeToFile(reclist, filename+'_'+str(batchnum)+'.xml')\n",
    "                        return (r.status_code, restoken)\n",
    "                #No more resumptions, write the remaining reclist to file\n",
    "                writeToFile(reclist, filename+'_'+str(batchnum)+'.xml')\n",
    "\n",
    "            else:\n",
    "                #no resumption. Disregard batch, write the whole reclist to file\n",
    "                writeToFile(reclist, filename +'.xml')     "
   ]
  },
  {
   "cell_type": "markdown",
   "metadata": {},
   "source": [
    "## I/O functions"
   ]
  },
  {
   "cell_type": "code",
   "execution_count": 16,
   "metadata": {},
   "outputs": [],
   "source": [
    "def writeToFile(records, filename, encoding='utf-8'):\n",
    "    #records is a list of xml.etree.Element instances\n",
    "    #wraps records in a collection element to a ElementTree instance\n",
    "    #write the ElementTree to file\n",
    "    root= xml.etree.ElementTree.Element('collection')\n",
    "    for rec in records:\n",
    "        root.append(rec)\n",
    "    e3=xml.etree.ElementTree.ElementTree(root)\n",
    "    e3.write(filename, encoding)\n",
    "    "
   ]
  }
 ],
 "metadata": {
  "kernelspec": {
   "display_name": "Python 3 (ipykernel)",
   "language": "python",
   "name": "python3"
  },
  "language_info": {
   "codemirror_mode": {
    "name": "ipython",
    "version": 3
   },
   "file_extension": ".py",
   "mimetype": "text/x-python",
   "name": "python",
   "nbconvert_exporter": "python",
   "pygments_lexer": "ipython3",
   "version": "3.7.11"
  }
 },
 "nbformat": 4,
 "nbformat_minor": 1
}
