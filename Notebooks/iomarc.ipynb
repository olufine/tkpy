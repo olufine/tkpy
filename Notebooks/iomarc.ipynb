{
 "cells": [
  {
   "cell_type": "markdown",
   "metadata": {},
   "source": [
    "# MARC I/O functions"
   ]
  },
  {
   "cell_type": "code",
   "execution_count": 3,
   "metadata": {
    "scrolled": true
   },
   "outputs": [],
   "source": [
    "from io import StringIO\n",
    "import pymarc\n",
    "from pymarc import Record, marcxml, Field, XMLWriter\n",
    "# debugging\n",
    "import pdb\n",
    "import traceback\n"
   ]
  },
  {
   "cell_type": "code",
   "execution_count": 1,
   "metadata": {},
   "outputs": [],
   "source": [
    "   \n",
    "def writeMarcToFile(marcrecs, filename):\n",
    "    #marcrecs is a list of pymarc record objects\n",
    "    #writes it as marcXML to filename\n",
    "    writer = XMLWriter(open(filename, 'wb'))\n",
    "    for rec in marcrecs:\n",
    "        writer.write(rec)\n",
    "    writer.close()\n",
    "\n",
    "def showMarcRecord(marcrec):\n",
    "    #prints the value of all fields\n",
    "    print('000:', marcrec.leader)\n",
    "    for fld in sorted(marcrec.get_fields(), key=lambda x: x.tag):\n",
    "        print(fld)\n",
    "\n",
    "def printFields(records, fldtags):\n",
    "    #prints the value of the given fields for all records in a set/list\n",
    "    for rec in records:\n",
    "        print(rec.get_fields('001')[0])\n",
    "        for ftag in fldtags:\n",
    "            if ftag=='000':\n",
    "                print('\\t', ftag, ':', rec.leader)\n",
    "            elif ftag.startswith('00'):\n",
    "                for f in rec.get_fields(ftag):\n",
    "                    print('\\t', ftag, ':', f.value())\n",
    "            else:\n",
    "                for f in rec.get_fields(ftag):\n",
    "                    print('\\t', ftag, ':', ''.join(f.indicators), f.value())            \n",
    "\n",
    "def printFieldss(records, fldtags):\n",
    "    #prints subfieldtags with values of the given fields for all records in a set/list\n",
    "    for rec in records:\n",
    "        print(rec.get_fields('001')[0])\n",
    "        for ftag in fldtags:\n",
    "            if ftag=='000':\n",
    "                print('\\t', ftag, ':', rec.leader)\n",
    "            elif ftag.startswith('00'):\n",
    "                for f in rec.get_fields(ftag):\n",
    "                    print('\\t', ftag, ':', f.value())\n",
    "            else:\n",
    "                for f in rec.get_fields(ftag):\n",
    "                    print('\\t', ftag, ':', ''.join(f.indicators), f.subfields)           "
   ]
  },
  {
   "cell_type": "code",
   "execution_count": null,
   "metadata": {},
   "outputs": [],
   "source": []
  }
 ],
 "metadata": {
  "kernelspec": {
   "display_name": "Python 3 (ipykernel)",
   "language": "python",
   "name": "python3"
  },
  "language_info": {
   "codemirror_mode": {
    "name": "ipython",
    "version": 3
   },
   "file_extension": ".py",
   "mimetype": "text/x-python",
   "name": "python",
   "nbconvert_exporter": "python",
   "pygments_lexer": "ipython3",
   "version": "3.9.13"
  }
 },
 "nbformat": 4,
 "nbformat_minor": 1
}
